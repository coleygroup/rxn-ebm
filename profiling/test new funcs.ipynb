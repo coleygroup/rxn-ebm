{
 "cells": [
  {
   "cell_type": "code",
   "execution_count": 40,
   "metadata": {},
   "outputs": [
    {
     "name": "stdout",
     "output_type": "stream",
     "text": [
      "[array([[1., 1., 1., ..., 0., 0., 0.]]), array([[0.]])]\n"
     ]
    }
   ],
   "source": [
    "import numpy as np\n",
    "import timeit\n",
    "\n",
    "def profile_numpy(myarray):\n",
    "    return np.split(myarray, [4095], axis=1)\n",
    "    \n",
    "myarray = np.concatenate( ( np.ones( (1, 2048) ), np.zeros( (1, 2048) ) \n",
    "                          ), \n",
    "                         axis=1)\n",
    "print(profile_numpy(myarray))"
   ]
  },
  {
   "cell_type": "code",
   "execution_count": 24,
   "metadata": {},
   "outputs": [],
   "source": [
    "from pathlib import Path\n",
    "cwd = Path.cwd()\n",
    "# mod_path = Path(__file__).parent\n",
    "rel_path = 'USPTO_50k_data/clean_rxn_50k_sparse_FPs_numrcts_test.npz'\n",
    "src_path_1 = (cwd.parents[0] / rel_path).resolve()\n",
    "\n",
    "from scipy import sparse\n",
    "fp_raw_num_rcts = sparse.load_npz(src_path_1)\n",
    "fp_now = fp_raw_num_rcts[0].toarray()"
   ]
  },
  {
   "cell_type": "code",
   "execution_count": 69,
   "metadata": {},
   "outputs": [
    {
     "data": {
      "text/plain": [
       "'C:\\\\Users\\\\Lin Min Htoo\\\\desktop\\\\OFYP\\\\work'"
      ]
     },
     "execution_count": 69,
     "metadata": {},
     "output_type": "execute_result"
    }
   ],
   "source": [
    "# %cd OFYP/work\n",
    "os.getcwd()"
   ]
  },
  {
   "cell_type": "code",
   "execution_count": 25,
   "metadata": {},
   "outputs": [
    {
     "data": {
      "text/plain": [
       "[array([[0, 0, 0, ..., 0, 0, 0]], dtype=int8), array([[2]], dtype=int8)]"
      ]
     },
     "execution_count": 25,
     "metadata": {},
     "output_type": "execute_result"
    }
   ],
   "source": [
    "np.split(fp_now, [fp_now.shape[-1]-1], axis=1) "
   ]
  },
  {
   "cell_type": "code",
   "execution_count": 49,
   "metadata": {},
   "outputs": [
    {
     "data": {
      "text/plain": [
       "((1, 20480), (1, 1))"
      ]
     },
     "execution_count": 49,
     "metadata": {},
     "output_type": "execute_result"
    }
   ],
   "source": [
    "fp_now[:, :-1].shape, fp_now[:, -1:].shape"
   ]
  },
  {
   "cell_type": "code",
   "execution_count": 57,
   "metadata": {},
   "outputs": [],
   "source": [
    "neg_raw_fps = [0] * (2 + 2)\n",
    "neg_raw_fps[0] = myarray"
   ]
  },
  {
   "cell_type": "code",
   "execution_count": 58,
   "metadata": {},
   "outputs": [
    {
     "data": {
      "text/plain": [
       "[array([[1., 1., 1., ..., 0., 0., 0.]]), 0, 0, 0]"
      ]
     },
     "execution_count": 58,
     "metadata": {},
     "output_type": "execute_result"
    }
   ],
   "source": [
    "neg_raw_fps"
   ]
  },
  {
   "cell_type": "code",
   "execution_count": 98,
   "metadata": {},
   "outputs": [
    {
     "name": "stdout",
     "output_type": "stream",
     "text": [
      "294 ns ± 6.88 ns per loop (mean ± std. dev. of 7 runs, 1000000 loops each)\n"
     ]
    }
   ],
   "source": [
    "myarray = np.ones((1, 4096))\n",
    "def reshape():\n",
    "    myarray.reshape(-1, 1024)\n",
    "    \n",
    "import timeit \n",
    "\n",
    "%timeit myarray.reshape(-1, 1024)"
   ]
  },
  {
   "cell_type": "code",
   "execution_count": 99,
   "metadata": {},
   "outputs": [
    {
     "name": "stdout",
     "output_type": "stream",
     "text": [
      "282 ns ± 5.24 ns per loop (mean ± std. dev. of 7 runs, 1000000 loops each)\n"
     ]
    }
   ],
   "source": [
    "%timeit myarray.reshape(4, 1024)"
   ]
  },
  {
   "cell_type": "code",
   "execution_count": 87,
   "metadata": {},
   "outputs": [],
   "source": [
    "import torch\n",
    "from torch.utils.data import Dataset\n",
    "import random\n",
    "import pickle\n",
    "from scipy import sparse \n",
    "\n",
    "import rdkit\n",
    "from rdkit import Chem\n",
    "from rdkit.Chem import AllChem\n",
    "from rdkit.Chem import rdChemReactions\n",
    "from rdkit import DataStructs\n",
    "import numpy as np\n",
    "\n",
    "# import nmslib\n",
    "\n",
    "def create_rxn_MorganFP_fromFP(raw_fp, num_rcts, fp_type='diff', \n",
    "                               rctfp_size=4096, prodfp_size=4096, dtype='int8'):\n",
    "    '''\n",
    "    fp_type: 'diff' or 'sep', \n",
    "    'diff' (difference):\n",
    "    Creates reaction MorganFP following Schneider et al in J. Chem. Inf. Model. 2015, 55, 1, 39–53\n",
    "    reactionFP = productFP - sum(reactantFPs)\n",
    "    \n",
    "    'sep' (separate):\n",
    "    Creates separate reactantsFP and productFP following Gao et al in ACS Cent. Sci. 2018, 4, 11, 1465–1476\n",
    "    '''\n",
    "    # initialise empty fp numpy arrays\n",
    "    if fp_type == 'diff':\n",
    "        diff_fp = np.empty(rctfp_size, dtype = dtype)\n",
    "    elif fp_type == 'sep':\n",
    "        rcts_fp = np.zeros(rctfp_size, dtype = dtype)\n",
    "        prod_fp = np.empty(prodfp_size, dtype = dtype)\n",
    "    else:\n",
    "        print('ERROR: fp_type not recognised!')\n",
    "        return\n",
    "    \n",
    "    # create product FP\n",
    "    # try:\n",
    "    fp = raw_fp[-1]\n",
    "    if fp_type == 'diff':\n",
    "        diff_fp = fp\n",
    "    elif fp_type == 'sep':\n",
    "        prod_fp = fp\n",
    "    # except Exception as e:\n",
    "    #     print(\"Cannot build product fp due to {}\".format(e))\n",
    "    #     return\n",
    "                                  \n",
    "    # create reactant FPs, subtracting each from product FP\n",
    "    for i in range(num_rcts):\n",
    "        # try:\n",
    "        fp = raw_fp[i]\n",
    "        if fp_type == 'diff':\n",
    "            diff_fp -= fp\n",
    "        elif fp_type == 'sep':\n",
    "            rcts_fp += fp\n",
    "        # except Exception as e:\n",
    "        #     print(\"Cannot build reactant fp due to {}\".format(e))\n",
    "        #     return\n",
    "    \n",
    "    if fp_type == 'diff':\n",
    "        return diff_fp\n",
    "    elif fp_type == 'sep':\n",
    "        return np.concatenate([rcts_fp, prod_fp])\n",
    "    \n",
    "def xform_rctFP(rct_FP, rct_idx, raw_fp):\n",
    "    '''Helper function for cosine sampling, to swap reactant in original raw_FP with a new reactant\n",
    "    '''\n",
    "    outputFP = raw_fp.copy()\n",
    "    outputFP[rct_idx] = rct_FP\n",
    "    return outputFP\n",
    "\n",
    "class ReactionDataset(Dataset):\n",
    "    '''\n",
    "    The Dataset class ReactionDataset prepares training samples of length K: \n",
    "    [pos_rxn, neg_rxn_1, ..., neg_rxn_K-1], ... where K-1 = num_neg \n",
    "    \n",
    "    TO DO: remove self.num_neg for random negative sampling (use num_neg_prod & num_neg_rct)\n",
    "    '''\n",
    "    def __init__(self, base_path, key, trainargs, mode,\n",
    "                 spaces_index=None,\n",
    "                 show_neg=False, # for visualising nearest neighbors \n",
    "                 save_neg=False): # for rxn_smi (to fix later on)\n",
    "        '''\n",
    "        For cosine/random negative sampling:\n",
    "            base_path should have the form: 'USPTO_50k_data/clean_rxn_50k_sparse_FPs', and according to key parameter,\n",
    "            the correct full path will be used e.g. 'USPTO_50k_data/clean_rxn_50k_sparse_FPs_train.npz'\n",
    "            \n",
    "            Needs in trainargs:\n",
    "                'num_neg_prod': # products to sample\n",
    "                'num_neg_rct': # reactants to sample\n",
    "                'cluster_path': path to search tree for cosine nearest neighbour sampling\n",
    "        \n",
    "        For bit corruption:\n",
    "            base_path should have the form 'PATH/clean_rxn_50k_sparse_rxnFPs'\n",
    "            Needs in trainargs: \n",
    "                'num_neg': # negative samples to generate\n",
    "                'num_bits': # bits to randomly corrupt in rxn fingerprint \n",
    "        ''' \n",
    "        self.trainargs = trainargs\n",
    "        self.mode = mode\n",
    "        if self.mode == 'bit_corruption':\n",
    "#             print('bit_corruption')\n",
    "            self.rxn_fp = sparse.load_npz(base_path + '_' + key + '.npz')\n",
    "            self.num_neg = self.trainargs['num_neg']\n",
    "            # assert self.num_neg > 0, 'num_neg must be positive!'\n",
    "            self.num_bits = self.trainargs['num_bits']\n",
    "            # assert self.num_bits > 0, 'num_bits must be positive!'\n",
    "            \n",
    "        else:\n",
    "            # print('cosine/random sampling')            \n",
    "            self.fp_raw_num_rcts = sparse.load_npz(base_path + '_' + key + '.npz')            \n",
    "            if 'cluster_path' in self.trainargs.keys(): # doing cosine similarity search\n",
    "                if self.trainargs['cluster_path'] is not None:\n",
    "                    print('_init_searchindex')\n",
    "                    self._init_searchindex(spaces_index)\n",
    "   \n",
    "            # assert 'num_neg_prod' in self.trainargs.keys() and 'num_neg_rct' in self.trainargs.keys(), \\\n",
    "            # 'You are not doing bit_corruption, but did not provide num_neg_prod and num_neg_rct!'\n",
    "            self.num_neg_prod = self.trainargs['num_neg_prod']\n",
    "            self.num_neg_rct = self.trainargs['num_neg_rct']\n",
    "            # assert self.num_neg_prod > 0 and self.num_neg_rct > 0, 'num_neg cannot be negative!' \n",
    "        \n",
    "        self.fp_type = self.trainargs['fp_type']\n",
    "        self.rctfp_size = self.trainargs['rctfp_size']\n",
    "        self.prodfp_size = self.trainargs['prodfp_size']\n",
    "        # assert trainargs['rctfp_size'] == self.trainargs['prodfp_size'], \\\n",
    "        # 'rctfp_size must be equal to prodfp_size!'\n",
    "#         self.save_neg = save_neg\n",
    "#         self.show_neg = show_neg\n",
    "\n",
    "    def _init_searchindex(self, spaces_index):\n",
    "        self.sparseFP_vocab = sparse.load_npz(self.trainargs['sparseFP_vocab_path'])\n",
    "        if self.mode == 'cosine_spaces':   \n",
    "            self.clusterindex = spaces_index\n",
    "            # nmslib.init(method='hnsw', space='cosinesimil_sparse', \n",
    "            #                     data_type=nmslib.DataType.SPARSE_VECTOR)\n",
    "            # self.clusterindex.loadIndex(self.trainargs['cluster_path'], load_data=True)\n",
    "            \n",
    "            # if 'query_params' in self.trainargs.keys():\n",
    "            #     self.clusterindex.setQueryTimeParams(self.trainargs['query_params'])\n",
    "        else:\n",
    "            with open(self.trainargs['cluster_path'], 'rb') as handle:\n",
    "                self.clusterindex = pickle.load(handle)\n",
    "\n",
    "    def random_sample_negative(self, raw_fp, num_rcts, mode):\n",
    "        '''\n",
    "        Randomly generates 1 negative rxn given a positive rxn fingerprint\n",
    "        Returns neg_rxn_fp (fingerprint)\n",
    "        ''' \n",
    "        # make this chunk of 3-4 lines into a function \n",
    "        rdm_rxn_idx = random.choice(np.arange(self.fp_raw_num_rcts.shape[0])) \n",
    "        new_fp_raw_num_rcts = self.fp_raw_num_rcts[rdm_rxn_idx].toarray()\n",
    "        # new_raw_fp, _ = np.split(new_fp_raw_num_rcts, [new_fp_raw_num_rcts.shape[-1]-1], axis=1)\n",
    "        new_raw_fp = new_fp_raw_num_rcts[:, :-1].reshape(-1, self.rctfp_size)  \n",
    "        \n",
    "        if mode == 'rct':\n",
    "            rct_idx = random.choice(np.arange(num_rcts))\n",
    "            raw_fp[rct_idx, :] = new_raw_fp[rct_idx, :]\n",
    "        else:\n",
    "            raw_fp[-1, :] = new_raw_fp[-1, :] \n",
    "        return raw_fp \n",
    "    \n",
    "    def faster_vstack(self, tuple_of_arrays):\n",
    "        array_1, array_2 = tuple_of_arrays\n",
    "        width = array_1.shape[1]\n",
    "        length_1, length_2 = array_1.shape[0], array_2.shape[0]\n",
    "#         assert array_1.shape[1] == array_2.shape[1]\n",
    "        array_out = np.empty((length_1 + length_2, width))\n",
    "        array_out[:length_1] = array_1\n",
    "        array_out[length_1:] = array_2\n",
    "        return array_out\n",
    "        \n",
    "    def cosine_sample_negative(self, raw_fp, num_rcts):\n",
    "        ''' \n",
    "        Replace product w/ approx nearest neighbor based on cosine similarity \n",
    "        Args:\n",
    "            raw_fp: dense nparray fp of shape (max #rcts + 1, self.rctfp_size); for USPTO-50k, max #rcts = 4\n",
    "            num_rcts: # rcts in current rxn corresponding to raw_fp\n",
    "        \n",
    "        Returns:\n",
    "            list of num_neg X dense nparrays of the same shape as raw_fp, with product replaced \n",
    "            \n",
    "        TODO: might be faster to sample rct_idx's for entire batch (have to design custom collate_fn)\n",
    "        '''\n",
    "        rct_idx = random.choice(np.arange(num_rcts)) \n",
    "        rct_prod_sparse = sparse.csr_matrix(raw_fp.copy()[[rct_idx, -1]], dtype='int8')\n",
    "        \n",
    "        if self.mode == 'cosine_spaces':\n",
    "            nn_rct_idx_dist, nn_prod_idx_dist = self.clusterindex.knnQueryBatch(rct_prod_sparse, \n",
    "                                                                                k = max(self.num_neg_prod, self.num_neg_rct) + 1, \n",
    "                                                                                num_threads = 4) # or self.trainargs['num_threads']\n",
    "            nn_rct_idxs, nn_prod_idxs = nn_rct_idx_dist[0], nn_prod_idx_dist[0]\n",
    "        else:\n",
    "            nn_rct_idxs, nn_prod_idxs = self.clusterindex.search(rct_prod_sparse, k=max(self.num_neg_prod, self.num_neg_rct)+1, \n",
    "                                                   return_distance=False)  #[0][1:]\n",
    "            nn_rct_idxs, nn_prod_idxs = [int(idx) for idx in nn_rct_idxs], [int(idx) for idx in nn_prod_idxs]\n",
    "        nn_prod_FPs = [self.sparseFP_vocab[idx].toarray() for idx in nn_prod_idxs[1: self.num_neg_prod + 1]]\n",
    "        nn_rct_FPs = [self.sparseFP_vocab[idx].toarray() for idx in nn_rct_idxs[1: self.num_neg_rct + 1]] # 1 x 4096 nparray\n",
    "        \n",
    "        # try pre-allocating output list in memory, to avoid list concatenation (which might be slow)\n",
    "        out_FPs = [0] * (self.num_neg_prod + self.num_neg_rct)\n",
    "        for i, prod_FP in enumerate(nn_prod_FPs):\n",
    "            out_FPs[i] = self.faster_vstack((raw_fp[:-1], prod_FP))\n",
    "            # out_FPs[i] = np.vstack((raw_fp[:-1], prod_FP))\n",
    "        for j, rct_FP in enumerate(nn_rct_FPs):\n",
    "            out_FPs[self.num_neg_prod + j] = xform_rctFP(rct_FP, rct_idx, raw_fp)\n",
    "        return out_FPs\n",
    "#         if self.show_neg:\n",
    "#             return [np.vstack((raw_fp[:-1], FP)) for FP in nn_prod_FPs] + [xform_rctFP(rctFP, rct_idx, raw_fp) for rctFP in nn_rct_FPs], nn_prod_indices, nn_rct_indices\n",
    "#         else:\n",
    "#             return [np.vstack((raw_fp[:-1], FP)) for FP in nn_prod_FPs] + [xform_rctFP(rctFP, rct_idx, raw_fp) for rctFP in nn_rct_FPs]  \n",
    "            \n",
    "    def random_bit_corrupter(self, rxn_fp, num_bits=10):\n",
    "        ''' Randomly selects <num_bits> bits in rxn_fp & randomly replaces them w/ -1, 0 or 1\n",
    "        Args: \n",
    "            rxn_fp: reaction fingerprint that can be indexed (usu. np array)\n",
    "            NOTE: Please use rxn_fp.copy() to avoid modifying your original rxn_fp\n",
    "        Returns:\n",
    "            corrupted fp of same shape and type as rxn_fp\n",
    "        '''\n",
    "        rdm_idx = random.sample(range(rxn_fp.shape[-1]), k=num_bits)\n",
    "        rxn_fp[0, rdm_idx] = [random.choice([-1, 0, 1]) for bit in rxn_fp[0, rdm_idx]]\n",
    "        return rxn_fp\n",
    "    \n",
    "    def __getitem__(self, idx):\n",
    "        ''' \n",
    "        Returns 1 training sample in the form [pos_rxn_fp, neg_rxn_1_fp, ..., neg_rxn_K-1_fp]\n",
    "        num_neg / num_neg_rct & num_neg_prod: a hyperparameter to be tuned\n",
    "        '''\n",
    "        if torch.is_tensor(idx): \n",
    "            idx = idx.tolist() \n",
    "        \n",
    "        if self.mode == 'bit_corruption':\n",
    "            pos_rxn_fp = self.rxn_fp[idx].toarray()\n",
    "            neg_rxn_fps = [self.random_bit_corrupter(pos_rxn_fp.copy(), self.num_bits) \n",
    "                           for i in range(self.num_neg)]\n",
    "            return torch.Tensor([pos_rxn_fp, *neg_rxn_fps])\n",
    "        \n",
    "        else:\n",
    "            fp_raw_num_rcts = self.fp_raw_num_rcts[idx].toarray() \n",
    "            # pos_raw_fp, num_rcts = np.split(fp_raw_num_rcts, [fp_raw_num_rcts.shape[-1]-1], axis=1) \n",
    "            # pos_raw_fp = pos_raw_fp.reshape(-1, self.rctfp_size) \n",
    "            # num_rcts = num_rcts[0][0]\n",
    "            pos_raw_fp = fp_raw_num_rcts[:, :-1].reshape(-1, self.rctfp_size) \n",
    "            print('pos_raw_fp: ', pos_raw_fp)\n",
    "            num_rcts = fp_raw_num_rcts[0, -1]\n",
    "            print('num_rcts: ', num_rcts)\n",
    "            pos_rxn_fp = create_rxn_MorganFP_fromFP(pos_raw_fp.copy(), num_rcts, fp_type=self.fp_type, \n",
    "                                                    rctfp_size=self.rctfp_size, prodfp_size=self.prodfp_size)\n",
    "            \n",
    "            if 'cluster_path' in self.trainargs.keys() and self.trainargs['cluster_path'] is not None: # cosine similarity search\n",
    "#                 if self.show_neg:\n",
    "#                     neg_raw_fps, nn_prod_indices, nn_rct_indices = self.cosine_sample_negative(pos_raw_fp, num_rcts)\n",
    "#                 else:\n",
    "                neg_raw_fps = self.cosine_sample_negative(pos_raw_fp, num_rcts)\n",
    "            else:\n",
    "                neg_raw_fps = [0] * (self.num_neg_prod + self.num_neg_rct)\n",
    "                for i in range(self.num_neg_prod):\n",
    "                    neg_raw_fps[i] = self.random_sample_negative(pos_raw_fp.copy(), num_rcts, 'prod')\n",
    "                for j in range(self.num_neg_rct):\n",
    "                    neg_raw_fps[self.num_neg_prod + j] = self.random_sample_negative(pos_raw_fp.copy(), num_rcts, 'rct') \n",
    "#                 neg_raw_fps = [self.random_sample_negative(pos_raw_fp.copy(), num_rcts, 'prod') \n",
    "#                                for i in range(self.num_neg_prod)] + [\n",
    "#                                self.random_sample_negative(pos_raw_fp.copy(), num_rcts, 'rct') \n",
    "#                                for i in range(self.num_neg_rct)]\n",
    "\n",
    "                neg_rxn_fps = [create_rxn_MorganFP_fromFP(neg_raw_fp.copy(), num_rcts, fp_type=self.fp_type, \n",
    "                                                      rctfp_size=self.rctfp_size, prodfp_size=self.prodfp_size)\n",
    "                            for neg_raw_fp in neg_raw_fps]\n",
    "#             if self.show_neg:\n",
    "#                 return torch.Tensor([pos_rxn_fp, *neg_rxn_fps]), nn_prod_indices, nn_rct_indices\n",
    "#             else:\n",
    "                return torch.Tensor([pos_rxn_fp, *neg_rxn_fps])\n",
    "\n",
    "    def __len__(self):\n",
    "        if self.mode == 'bit_corruption':\n",
    "            return self.rxn_fp.shape[0]\n",
    "        else:\n",
    "            return self.fp_raw_num_rcts.shape[0]"
   ]
  },
  {
   "cell_type": "code",
   "execution_count": 88,
   "metadata": {},
   "outputs": [
    {
     "name": "stdout",
     "output_type": "stream",
     "text": [
      "checkpoint_folder already exists\n"
     ]
    }
   ],
   "source": [
    "from experiment.utils import setup_paths, load_model_opt_and_stats\n",
    "\n",
    "LOCAL = True # CHANGE THIS \n",
    "mode = 'random_sampling' # bit_corruption or random_sampling or cosine_pysparnn_<num_index> or cosine_spaces\n",
    "model_name = 'Feedforward'\n",
    "expt_name = 'profiling_expt1' # CHANGE THIS \n",
    "\n",
    "checkpoint_folder, base_path, cluster_path, sparseFP_vocab_path = setup_paths(expt_name, mode, LOCAL)\n",
    "\n",
    "trainargs = {\n",
    "'model': model_name,\n",
    "'hidden_sizes': [512, 128],  \n",
    "'output_size': 1,\n",
    "'dropout': 0.1,  \n",
    "\n",
    "'batch_size': 64,\n",
    "'activation': 'ReLU',  \n",
    "'optimizer': torch.optim.Adam,\n",
    "'learning_rate':  5e-3, # to try: lr_finder & lr_schedulers \n",
    "'epochs': 1,\n",
    "'early_stop': True,\n",
    "'min_delta': 1e-5, # we just want to watch out for when val_loss increases\n",
    "'patience': 1,\n",
    "'num_workers': 4,\n",
    "\n",
    "'checkpoint': True,\n",
    "'model_seed': 1337,\n",
    "'random_seed': 0, # affects neg rxn sampling since it is random\n",
    "\n",
    "'rctfp_size': 4096, # if fp_type == 'diff', ensure that both rctfp_size & prodfp_size are identical!\n",
    "'prodfp_size': 4096,\n",
    "'fp_radius': 3,\n",
    "'fp_type': 'diff',\n",
    "\n",
    "'num_neg_prod': 5, \n",
    "'num_neg_rct': 5,\n",
    "# 'num_bits': 4, \n",
    "# 'num_neg': 5,\n",
    "\n",
    "'base_path': base_path, # refer to top of notebook \n",
    "'checkpoint_path': checkpoint_folder,\n",
    "'cluster_path': cluster_path,\n",
    "'sparseFP_vocab_path': sparseFP_vocab_path,\n",
    "'query_params': {'efSearch': 100}, # for cosine_spaces, good value to hit 96% recall\n",
    "\n",
    "'expt_name': expt_name,\n",
    "'device': torch.device(\"cuda\" if torch.cuda.is_available() else \"cpu\")\n",
    "}   "
   ]
  },
  {
   "cell_type": "code",
   "execution_count": 89,
   "metadata": {},
   "outputs": [],
   "source": [
    "mydataset = ReactionDataset(base_path = trainargs['base_path'],  \n",
    "                key='test', mode=mode, trainargs=trainargs)"
   ]
  },
  {
   "cell_type": "code",
   "execution_count": 90,
   "metadata": {},
   "outputs": [
    {
     "name": "stdout",
     "output_type": "stream",
     "text": [
      "pos_raw_fp:  [[0 0 0 ... 0 0 0]\n",
      " [0 0 0 ... 0 0 0]\n",
      " [0 0 0 ... 0 0 0]\n",
      " [0 0 0 ... 0 0 0]\n",
      " [0 0 0 ... 0 0 0]]\n",
      "num_rcts:  2\n"
     ]
    },
    {
     "data": {
      "text/plain": [
       "tensor([[0., 0., 0.,  ..., 0., 0., 0.],\n",
       "        [0., 0., 0.,  ..., 0., 0., 0.],\n",
       "        [0., 0., 0.,  ..., 0., 0., 0.],\n",
       "        ...,\n",
       "        [0., 0., 0.,  ..., 0., 0., 0.],\n",
       "        [0., 0., 0.,  ..., 0., 0., 0.],\n",
       "        [0., 0., 0.,  ..., 0., 0., 0.]])"
      ]
     },
     "execution_count": 90,
     "metadata": {},
     "output_type": "execute_result"
    }
   ],
   "source": [
    "mydataset.__getitem__(1)"
   ]
  },
  {
   "cell_type": "code",
   "execution_count": null,
   "metadata": {},
   "outputs": [],
   "source": []
  }
 ],
 "metadata": {
  "kernelspec": {
   "display_name": "Python 3",
   "language": "python",
   "name": "python3"
  },
  "language_info": {
   "codemirror_mode": {
    "name": "ipython",
    "version": 3
   },
   "file_extension": ".py",
   "mimetype": "text/x-python",
   "name": "python",
   "nbconvert_exporter": "python",
   "pygments_lexer": "ipython3",
   "version": "3.7.6"
  }
 },
 "nbformat": 4,
 "nbformat_minor": 4
}
