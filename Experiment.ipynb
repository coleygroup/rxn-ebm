{
 "cells": [
  {
   "cell_type": "code",
   "execution_count": 1,
   "metadata": {},
   "outputs": [
    {
     "name": "stdout",
     "output_type": "stream",
     "text": [
      "checkpoint_folder already exists\n"
     ]
    }
   ],
   "source": [
    "LOCAL = True # CHANGE THIS \n",
    "cosine = False # CHANGE THIS \n",
    "multi = False # monocluster or multicluster\n",
    "mode = None # CHANGE THIS - bit_corruption or None\n",
    "\n",
    "from datetime import date\n",
    "today = date.today().strftime(\"%d_%m_%Y\")\n",
    "if LOCAL: \n",
    "    checkpoint_folder = 'checkpoints/{}/'.format(today)\n",
    "    try:\n",
    "        os.makedirs(checkpoint_folder)\n",
    "    except:\n",
    "        print('checkpoint_folder already exists')\n",
    "        \n",
    "    if mode == 'bit_corruption':\n",
    "        base_path = 'USPTO_50k_data/clean_rxn_50k_sparse_rxnFPs'\n",
    "    else:\n",
    "        base_path = 'USPTO_50k_data/clean_rxn_50k_sparse_FPs_numrcts'\n",
    "    if cosine:\n",
    "        if multi:\n",
    "            cluster_path = 'USPTO_50k_data/50k_allmols_sparse_FP_clusterIndex.bin'\n",
    "        else:\n",
    "            cluster_path = 'USPTO_50k_data/50k_allmols_sparse_FP_MONOclusterIndex.bin'\n",
    "        sparseFP_vocab_path = 'USPTO_50k_data/50k_all_mols_sparse_FPs.npz'\n",
    "else: # colab \n",
    "    checkpoint_folder = '/content/gdrive/My Drive/rxn_ebm/checkpoints/{}/'.format(today) \n",
    "    try:\n",
    "        os.makedirs(checkpoint_folder)\n",
    "    except:\n",
    "        print('checkpoint_folder already exists')\n",
    "    if mode == 'bit_corruption':\n",
    "        base_path = 'content/clean_rxn_50k_sparse_rxnFPs'\n",
    "    else:\n",
    "        base_path = 'content/clean_rxn_50k_sparse_FPs_numrcts'\n",
    "    if cosine:\n",
    "        if multi:\n",
    "            cluster_path = 'content/50k_allmols_sparse_FP_clusterIndex.bin'\n",
    "        else:\n",
    "            cluster_path = 'content/50k_allmols_sparse_FP_MONOclusterIndex.bin'\n",
    "        sparseFP_vocab_path = '/content/50k_all_mols_sparse_FPs.npz'"
   ]
  },
  {
   "cell_type": "code",
   "execution_count": 2,
   "metadata": {},
   "outputs": [],
   "source": [
    "import pysparnn.cluster_index as ci\n",
    "\n",
    "import sys\n",
    "sys.path.append('/usr/local/lib/python3.7/site-packages/') \n",
    "# for Colab \n",
    "import os\n",
    "\n",
    "import rdkit\n",
    "from rdkit import Chem\n",
    "from rdkit.Chem import Draw\n",
    "from rdkit.Chem import AllChem\n",
    "from rdkit.Chem.Draw import IPythonConsole\n",
    "IPythonConsole.ipython_useSVG=True\n",
    "from rdkit.Chem import Descriptors\n",
    "from rdkit.Chem import rdMolDescriptors\n",
    "from rdkit.Chem import rdChemReactions\n",
    "from rdkit.Chem import rdqueries # faster than iterating atoms https://sourceforge.net/p/rdkit/mailman/message/34538007/ \n",
    "from rdkit.Chem.rdchem import Atom\n",
    "from rdkit import DataStructs\n",
    "import numpy as np\n",
    "\n",
    "from itertools import chain\n",
    "import random\n",
    "\n",
    "from tqdm import tqdm\n",
    "getattr(tqdm, '_instances', {}).clear() \n",
    "import pickle\n",
    "import copy\n",
    "\n",
    "import torch\n",
    "import torch.nn as nn\n",
    "import torch.nn.functional as F"
   ]
  },
  {
   "cell_type": "code",
   "execution_count": 14,
   "metadata": {},
   "outputs": [],
   "source": [
    "from experiment import Experiment\n",
    "from model.FF import FeedforwardEBM\n",
    "\n",
    "trainargs = {\n",
    "    'model': 'FF_diff', # must change both model & fp_type \n",
    "    'hidden_sizes': [64],  \n",
    "    'output_size': 1,\n",
    "    'dropout': 0.1,  \n",
    "    \n",
    "    'batch_size': 64,\n",
    "    'activation': 'ReLU',  \n",
    "    'optimizer': torch.optim.Adam,\n",
    "    'learning_rate': 8.5e-3, # to try: lr_finder & lr_schedulers \n",
    "    'epochs': 10,\n",
    "    'early_stop': True,\n",
    "    'min_delta': 1e-4, \n",
    "    'patience': 1,\n",
    "\n",
    "    'checkpoint': True,\n",
    "    'random_seed': 0, # only 1 seed is needed to seed all (torch, np, random etc.)\n",
    "    \n",
    "    'rctfp_size': 4096, # if fp_type == 'diff', ensure that both rctfp_size & prodfp_size are identical!\n",
    "    'prodfp_size': 4096,\n",
    "    'fp_radius': 3,\n",
    "    'fp_type': 'diff',\n",
    "    \n",
    "    'num_neg_prod': 1,\n",
    "    'num_neg_rct': 1,\n",
    "    \n",
    "    'base_path': base_path, # refer to top of notebook \n",
    "    'checkpoint_path': checkpoint_folder,\n",
    "    'expt_name': 'testing',\n",
    "    'device': torch.device(\"cuda\" if torch.cuda.is_available() else \"cpu\")\n",
    "}\n",
    "\n",
    "mode = None"
   ]
  },
  {
   "cell_type": "code",
   "execution_count": 15,
   "metadata": {},
   "outputs": [
    {
     "name": "stdout",
     "output_type": "stream",
     "text": [
      "Using seed: 0\n"
     ]
    }
   ],
   "source": [
    "model = FeedforwardEBM(trainargs)\n",
    "experiment = Experiment(model, trainargs, mode=mode)"
   ]
  },
  {
   "cell_type": "code",
   "execution_count": null,
   "metadata": {},
   "outputs": [],
   "source": [
    "experiment.train()"
   ]
  },
  {
   "cell_type": "code",
   "execution_count": null,
   "metadata": {},
   "outputs": [],
   "source": []
  }
 ],
 "metadata": {
  "kernelspec": {
   "display_name": "Python 3",
   "language": "python",
   "name": "python3"
  },
  "language_info": {
   "codemirror_mode": {
    "name": "ipython",
    "version": 3
   },
   "file_extension": ".py",
   "mimetype": "text/x-python",
   "name": "python",
   "nbconvert_exporter": "python",
   "pygments_lexer": "ipython3",
   "version": "3.7.6"
  }
 },
 "nbformat": 4,
 "nbformat_minor": 4
}
